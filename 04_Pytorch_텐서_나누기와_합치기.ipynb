{
  "nbformat": 4,
  "nbformat_minor": 0,
  "metadata": {
    "colab": {
      "name": "04_Pytorch 텐서 나누기와 합치기.ipynb",
      "provenance": [],
      "collapsed_sections": [],
      "authorship_tag": "ABX9TyNQMnLQunv5g4///zdV16Z0",
      "include_colab_link": true
    },
    "kernelspec": {
      "name": "python3",
      "display_name": "Python 3"
    },
    "language_info": {
      "name": "python"
    }
  },
  "cells": [
    {
      "cell_type": "markdown",
      "metadata": {
        "id": "view-in-github",
        "colab_type": "text"
      },
      "source": [
        "<a href=\"https://colab.research.google.com/github/SWtheWhite/DLbasic/blob/main/04_Pytorch_%ED%85%90%EC%84%9C_%EB%82%98%EB%88%84%EA%B8%B0%EC%99%80_%ED%95%A9%EC%B9%98%EA%B8%B0.ipynb\" target=\"_parent\"><img src=\"https://colab.research.google.com/assets/colab-badge.svg\" alt=\"Open In Colab\"/></a>"
      ]
    },
    {
      "cell_type": "code",
      "execution_count": null,
      "metadata": {
        "id": "rOZdmSlCHDdH"
      },
      "outputs": [],
      "source": [
        "import torch"
      ]
    },
    {
      "cell_type": "markdown",
      "source": [
        "# Indexing과 Slicing"
      ],
      "metadata": {
        "id": "LEVO4U2bIDDv"
      }
    },
    {
      "cell_type": "code",
      "source": [
        "x = torch.FloatTensor([[[1, 2],\n",
        "                        [3, 4]],\n",
        "                       [[5, 6],\n",
        "                        [7, 8]],\n",
        "                       [[9, 10],\n",
        "                        [11, 12]]])\n",
        "print(x.size())"
      ],
      "metadata": {
        "colab": {
          "base_uri": "https://localhost:8080/"
        },
        "id": "fAZ0_ckbIIHM",
        "outputId": "0d6b7c4a-e811-492d-d77c-3748b2bf0f05"
      },
      "execution_count": null,
      "outputs": [
        {
          "output_type": "stream",
          "name": "stdout",
          "text": [
            "torch.Size([3, 2, 2])\n"
          ]
        }
      ]
    },
    {
      "cell_type": "code",
      "source": [
        "# 텐서 인덱싱과 슬라이싱\n",
        "print(x[0])\n",
        "print(x[0, :])\n",
        "print(x[0, :, :])"
      ],
      "metadata": {
        "colab": {
          "base_uri": "https://localhost:8080/"
        },
        "id": "iY5xKlqYILU4",
        "outputId": "7f6e8fce-f1f9-48c6-9b27-ac1bae9e4d8b"
      },
      "execution_count": null,
      "outputs": [
        {
          "output_type": "stream",
          "name": "stdout",
          "text": [
            "tensor([[1., 2.],\n",
            "        [3., 4.]])\n",
            "tensor([[1., 2.],\n",
            "        [3., 4.]])\n",
            "tensor([[1., 2.],\n",
            "        [3., 4.]])\n"
          ]
        }
      ]
    },
    {
      "cell_type": "code",
      "source": [
        "print(x[-1])\n",
        "print(x[-1, :])\n",
        "print(x[-1, :, :])"
      ],
      "metadata": {
        "colab": {
          "base_uri": "https://localhost:8080/"
        },
        "id": "7y_ieCKVIeS0",
        "outputId": "1ce8c246-c8bb-49f7-e4f0-e526ab2caa41"
      },
      "execution_count": null,
      "outputs": [
        {
          "output_type": "stream",
          "name": "stdout",
          "text": [
            "tensor([[ 9., 10.],\n",
            "        [11., 12.]])\n",
            "tensor([[ 9., 10.],\n",
            "        [11., 12.]])\n",
            "tensor([[ 9., 10.],\n",
            "        [11., 12.]])\n"
          ]
        }
      ]
    },
    {
      "cell_type": "code",
      "source": [
        "print(x[:, 0, :])"
      ],
      "metadata": {
        "colab": {
          "base_uri": "https://localhost:8080/"
        },
        "id": "BXNX4XsJIfH9",
        "outputId": "12b9afeb-5367-4b32-8b7a-08ca3d17a2c9"
      },
      "execution_count": null,
      "outputs": [
        {
          "output_type": "stream",
          "name": "stdout",
          "text": [
            "tensor([[ 1.,  2.],\n",
            "        [ 5.,  6.],\n",
            "        [ 9., 10.]])\n"
          ]
        }
      ]
    },
    {
      "cell_type": "code",
      "source": [
        "# Access by range. Note that the number of dimensions would not be changed.\n",
        "print(x[1:3, :, :].size())\n",
        "print(x[:, :1, :].size())\n",
        "print(x[:, :-1, :].size())"
      ],
      "metadata": {
        "colab": {
          "base_uri": "https://localhost:8080/"
        },
        "id": "60jUGmuZIkd1",
        "outputId": "853d33d6-0071-4634-898f-abb5266cb7e1"
      },
      "execution_count": null,
      "outputs": [
        {
          "output_type": "stream",
          "name": "stdout",
          "text": [
            "torch.Size([2, 2, 2])\n",
            "torch.Size([3, 1, 2])\n",
            "torch.Size([3, 1, 2])\n"
          ]
        }
      ]
    },
    {
      "cell_type": "markdown",
      "source": [
        "# Split"
      ],
      "metadata": {
        "id": "-hqswYV2I9yl"
      }
    },
    {
      "cell_type": "code",
      "source": [
        "x = torch.FloatTensor(10, 4)"
      ],
      "metadata": {
        "id": "BcJn5gZxI_im"
      },
      "execution_count": null,
      "outputs": []
    },
    {
      "cell_type": "code",
      "source": [
        "splits = x.split(4, dim=0)\n",
        "\n",
        "for s in splits:\n",
        "    print(s.size())"
      ],
      "metadata": {
        "colab": {
          "base_uri": "https://localhost:8080/"
        },
        "id": "6816sDKCJB1d",
        "outputId": "79b43dc4-f5ea-4695-efc2-aa39a167f63e"
      },
      "execution_count": null,
      "outputs": [
        {
          "output_type": "stream",
          "name": "stdout",
          "text": [
            "torch.Size([4, 4])\n",
            "torch.Size([4, 4])\n",
            "torch.Size([2, 4])\n"
          ]
        }
      ]
    },
    {
      "cell_type": "markdown",
      "source": [
        "# Chunk"
      ],
      "metadata": {
        "id": "odXv4mXfJHfo"
      }
    },
    {
      "cell_type": "code",
      "source": [
        "x = torch.FloatTensor(8, 4)"
      ],
      "metadata": {
        "id": "X-HpP0jYJKIB"
      },
      "execution_count": null,
      "outputs": []
    },
    {
      "cell_type": "code",
      "source": [
        "chunks = x.chunk(3, dim=0)\n",
        "\n",
        "for c in chunks:\n",
        "    print(c.size())"
      ],
      "metadata": {
        "colab": {
          "base_uri": "https://localhost:8080/"
        },
        "id": "-YEAAgVlJPLZ",
        "outputId": "a5526eaf-ee21-45a1-83b3-9f0e49c113a2"
      },
      "execution_count": null,
      "outputs": [
        {
          "output_type": "stream",
          "name": "stdout",
          "text": [
            "torch.Size([3, 4])\n",
            "torch.Size([3, 4])\n",
            "torch.Size([2, 4])\n"
          ]
        }
      ]
    },
    {
      "cell_type": "markdown",
      "source": [
        "# Index_select"
      ],
      "metadata": {
        "id": "qgsGjJaBJRp-"
      }
    },
    {
      "cell_type": "code",
      "source": [
        "x = torch.FloatTensor([[[1, 1],\n",
        "                        [2, 2]],\n",
        "                       [[3, 3],\n",
        "                        [4, 4]],\n",
        "                       [[5, 5],\n",
        "                        [6, 6]]])\n",
        "indice = torch.LongTensor([2, 1])\n",
        "\n",
        "print(x.size())"
      ],
      "metadata": {
        "colab": {
          "base_uri": "https://localhost:8080/"
        },
        "id": "XHiXVJaYJWg2",
        "outputId": "1fd98c62-7a9e-4756-9605-dadf86a82f1a"
      },
      "execution_count": null,
      "outputs": [
        {
          "output_type": "stream",
          "name": "stdout",
          "text": [
            "torch.Size([3, 2, 2])\n"
          ]
        }
      ]
    },
    {
      "cell_type": "code",
      "source": [
        "y = x.index_select(dim=0, index=indice)\n",
        "\n",
        "print(y)\n",
        "print(y.size())"
      ],
      "metadata": {
        "colab": {
          "base_uri": "https://localhost:8080/"
        },
        "id": "Ean_Bzi4JYgj",
        "outputId": "fd4af882-8562-4aa4-b585-e87ab30a9be7"
      },
      "execution_count": null,
      "outputs": [
        {
          "output_type": "stream",
          "name": "stdout",
          "text": [
            "tensor([[[5., 5.],\n",
            "         [6., 6.]],\n",
            "\n",
            "        [[3., 3.],\n",
            "         [4., 4.]]])\n",
            "torch.Size([2, 2, 2])\n"
          ]
        }
      ]
    },
    {
      "cell_type": "markdown",
      "source": [
        "# Concatenation"
      ],
      "metadata": {
        "id": "QouV4PdpJcyh"
      }
    },
    {
      "cell_type": "code",
      "source": [
        "x = torch.FloatTensor([[1, 2, 3],\n",
        "                       [4, 5, 6],\n",
        "                       [7, 8, 9]])\n",
        "y = torch.FloatTensor([[10, 11, 12],\n",
        "                       [13, 14, 15],\n",
        "                       [16, 17, 18]])\n",
        "\n",
        "print(x.size(), y.size())"
      ],
      "metadata": {
        "id": "z-SCKoCWJj89"
      },
      "execution_count": null,
      "outputs": []
    },
    {
      "cell_type": "code",
      "source": [
        "z = torch.cat([x, y], dim=0)\n",
        "print(z)\n",
        "print(z.size())"
      ],
      "metadata": {
        "id": "NryMPuykJnm6"
      },
      "execution_count": null,
      "outputs": []
    },
    {
      "cell_type": "code",
      "source": [
        "z = torch.cat([x, y], dim=-1)\n",
        "print(z)\n",
        "print(z.size())"
      ],
      "metadata": {
        "id": "9YPAeOTeJpJw"
      },
      "execution_count": null,
      "outputs": []
    },
    {
      "cell_type": "markdown",
      "source": [
        "# Stack"
      ],
      "metadata": {
        "id": "pxLJNaXfJqdR"
      }
    },
    {
      "cell_type": "code",
      "source": [
        "z = torch.stack([x, y])\n",
        "print(z)\n",
        "print(z.size())"
      ],
      "metadata": {
        "id": "w_AZ_fXcJsYo"
      },
      "execution_count": null,
      "outputs": []
    },
    {
      "cell_type": "code",
      "source": [
        "z = torch.stack([x, y], dim=-1)\n",
        "print(z)\n",
        "print(z.size())"
      ],
      "metadata": {
        "id": "TyAc6TEAJur4"
      },
      "execution_count": null,
      "outputs": []
    },
    {
      "cell_type": "markdown",
      "source": [
        "# "
      ],
      "metadata": {
        "id": "y7E0sDFoJxI_"
      }
    },
    {
      "cell_type": "markdown",
      "source": [
        "# Stack (feat.cat)"
      ],
      "metadata": {
        "id": "NSe3u01aL8Tp"
      }
    },
    {
      "cell_type": "code",
      "source": [
        "# z = torch.stack([x, y])\n",
        "z = torch.cat([x.unsqueeze(0), y.unsqueeze(0)], dim=0)\n",
        "print(z)\n",
        "print(z.size())"
      ],
      "metadata": {
        "id": "hztkWK6fMAti"
      },
      "execution_count": null,
      "outputs": []
    },
    {
      "cell_type": "markdown",
      "source": [
        "# 팁"
      ],
      "metadata": {
        "id": "1rf9KHQDMgQL"
      }
    },
    {
      "cell_type": "code",
      "source": [
        "result = []\n",
        "for i in range(5):\n",
        "    x = torch.FloatTensor(2, 2)\n",
        "    result += [x]\n",
        "\n",
        "result = torch.stack(result)\n",
        "result.size()"
      ],
      "metadata": {
        "id": "4JQlJS84MC2c"
      },
      "execution_count": null,
      "outputs": []
    }
  ]
}