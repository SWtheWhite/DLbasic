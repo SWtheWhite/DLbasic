{
  "nbformat": 4,
  "nbformat_minor": 0,
  "metadata": {
    "colab": {
      "name": "03_Pytorch 텐서 조작.ipynb",
      "provenance": [],
      "collapsed_sections": [],
      "authorship_tag": "ABX9TyN0osjpDsyU2YCd/DXGpEiy",
      "include_colab_link": true
    },
    "kernelspec": {
      "name": "python3",
      "display_name": "Python 3"
    },
    "language_info": {
      "name": "python"
    }
  },
  "cells": [
    {
      "cell_type": "markdown",
      "metadata": {
        "id": "view-in-github",
        "colab_type": "text"
      },
      "source": [
        "<a href=\"https://colab.research.google.com/github/SWtheWhite/DLbasic/blob/main/03_Pytorch_%ED%85%90%EC%84%9C_%EC%A1%B0%EC%9E%91.ipynb\" target=\"_parent\"><img src=\"https://colab.research.google.com/assets/colab-badge.svg\" alt=\"Open In Colab\"/></a>"
      ]
    },
    {
      "cell_type": "code",
      "execution_count": 1,
      "metadata": {
        "id": "8AiNUDGWFAWe"
      },
      "outputs": [],
      "source": [
        "import torch"
      ]
    },
    {
      "cell_type": "markdown",
      "source": [
        "# 텐서 모양 조작"
      ],
      "metadata": {
        "id": "eCtg7pfRFPqp"
      }
    },
    {
      "cell_type": "markdown",
      "source": [
        "## reshape"
      ],
      "metadata": {
        "id": "As7dicL2iFWW"
      }
    },
    {
      "cell_type": "markdown",
      "source": [
        "텐서 모양 바꾸기"
      ],
      "metadata": {
        "id": "rl7_pGD5kvt5"
      }
    },
    {
      "cell_type": "code",
      "source": [
        "x = torch.FloatTensor([[[1, 2],\n",
        "                        [3, 4]],\n",
        "                       [[5, 6],\n",
        "                        [7, 8]],\n",
        "                       [[9, 10],\n",
        "                        [11, 12]]])\n",
        "\n",
        "print(x.size())"
      ],
      "metadata": {
        "colab": {
          "base_uri": "https://localhost:8080/"
        },
        "id": "SdaEVdrSFaxr",
        "outputId": "00ac431b-57d6-4dcd-b7ec-754a9e16736f"
      },
      "execution_count": 2,
      "outputs": [
        {
          "output_type": "stream",
          "name": "stdout",
          "text": [
            "torch.Size([3, 2, 2])\n"
          ]
        }
      ]
    },
    {
      "cell_type": "code",
      "source": [
        "print(x.reshape(12)) # 12 = 3 * 2 * 2\n",
        "print(x.reshape(-1))"
      ],
      "metadata": {
        "colab": {
          "base_uri": "https://localhost:8080/"
        },
        "id": "2qHjIv9aFg6u",
        "outputId": "97f2688d-9b1c-4948-b403-42eca2b5fc82"
      },
      "execution_count": 3,
      "outputs": [
        {
          "output_type": "stream",
          "name": "stdout",
          "text": [
            "tensor([ 1.,  2.,  3.,  4.,  5.,  6.,  7.,  8.,  9., 10., 11., 12.])\n",
            "tensor([ 1.,  2.,  3.,  4.,  5.,  6.,  7.,  8.,  9., 10., 11., 12.])\n"
          ]
        }
      ]
    },
    {
      "cell_type": "code",
      "source": [
        "print(x.reshape(3, 4)) # 3 * 4 = 3 * 2 * 2\n",
        "print(x.reshape(3, -1))"
      ],
      "metadata": {
        "colab": {
          "base_uri": "https://localhost:8080/"
        },
        "id": "Qjknf6umFkFa",
        "outputId": "733389f7-8f83-4ee0-f7ef-a06a424b7d65"
      },
      "execution_count": 4,
      "outputs": [
        {
          "output_type": "stream",
          "name": "stdout",
          "text": [
            "tensor([[ 1.,  2.,  3.,  4.],\n",
            "        [ 5.,  6.,  7.,  8.],\n",
            "        [ 9., 10., 11., 12.]])\n",
            "tensor([[ 1.,  2.,  3.,  4.],\n",
            "        [ 5.,  6.,  7.,  8.],\n",
            "        [ 9., 10., 11., 12.]])\n"
          ]
        }
      ]
    },
    {
      "cell_type": "code",
      "source": [
        "print(x.reshape(3, 1, 4))\n",
        "print(x.reshape(-1, 1, 4))"
      ],
      "metadata": {
        "colab": {
          "base_uri": "https://localhost:8080/"
        },
        "id": "yPimAm2Riw-b",
        "outputId": "32f311ce-fe80-4a13-e9e7-fdc6c0c0042d"
      },
      "execution_count": 6,
      "outputs": [
        {
          "output_type": "stream",
          "name": "stdout",
          "text": [
            "tensor([[[ 1.,  2.,  3.,  4.]],\n",
            "\n",
            "        [[ 5.,  6.,  7.,  8.]],\n",
            "\n",
            "        [[ 9., 10., 11., 12.]]])\n",
            "tensor([[[ 1.,  2.,  3.,  4.]],\n",
            "\n",
            "        [[ 5.,  6.,  7.,  8.]],\n",
            "\n",
            "        [[ 9., 10., 11., 12.]]])\n"
          ]
        }
      ]
    },
    {
      "cell_type": "code",
      "source": [
        "print(x.reshape(3, 2, 2, 1))"
      ],
      "metadata": {
        "colab": {
          "base_uri": "https://localhost:8080/"
        },
        "id": "WTeRglOvFlp8",
        "outputId": "4ec8af54-ef15-4ccb-9479-4222971d89d9"
      },
      "execution_count": 7,
      "outputs": [
        {
          "output_type": "stream",
          "name": "stdout",
          "text": [
            "tensor([[[[ 1.],\n",
            "          [ 2.]],\n",
            "\n",
            "         [[ 3.],\n",
            "          [ 4.]]],\n",
            "\n",
            "\n",
            "        [[[ 5.],\n",
            "          [ 6.]],\n",
            "\n",
            "         [[ 7.],\n",
            "          [ 8.]]],\n",
            "\n",
            "\n",
            "        [[[ 9.],\n",
            "          [10.]],\n",
            "\n",
            "         [[11.],\n",
            "          [12.]]]])\n"
          ]
        }
      ]
    },
    {
      "cell_type": "markdown",
      "source": [
        "특정 케이스에선 'view()'를 'reshape()' 대신에 사용할 수 있다.\n",
        "\n",
        "- https://pytorch.org/docs/stable/tensor_view.html\n",
        "- https://pytorch.org/docs/stable/tensors.html?highlight=view#torch.Tensor.view"
      ],
      "metadata": {
        "id": "cr1SQetaFwIa"
      }
    },
    {
      "cell_type": "markdown",
      "source": [
        "## squeeze"
      ],
      "metadata": {
        "id": "M_baZkHNGy3_"
      }
    },
    {
      "cell_type": "markdown",
      "source": [
        "차원의 사이즈가 1인, 특정 차원을 제거"
      ],
      "metadata": {
        "id": "GNCUrdXTlC18"
      }
    },
    {
      "cell_type": "code",
      "source": [
        "x = torch.FloatTensor([[[1, 2],\n",
        "                        [3, 4]]])\n",
        "print(x.size())"
      ],
      "metadata": {
        "colab": {
          "base_uri": "https://localhost:8080/"
        },
        "id": "bXhRIlyRG6ku",
        "outputId": "34e33318-f007-4deb-c297-595e592bc51f"
      },
      "execution_count": 8,
      "outputs": [
        {
          "output_type": "stream",
          "name": "stdout",
          "text": [
            "torch.Size([1, 2, 2])\n"
          ]
        }
      ]
    },
    {
      "cell_type": "code",
      "source": [
        "# Squeeze\n",
        "print(x.squeeze())\n",
        "print(x.squeeze().size())"
      ],
      "metadata": {
        "colab": {
          "base_uri": "https://localhost:8080/"
        },
        "id": "sE_muRNvF7vq",
        "outputId": "8a4d4c4d-7c17-40db-d38c-341e8bccca61"
      },
      "execution_count": 9,
      "outputs": [
        {
          "output_type": "stream",
          "name": "stdout",
          "text": [
            "tensor([[1., 2.],\n",
            "        [3., 4.]])\n",
            "torch.Size([2, 2])\n"
          ]
        }
      ]
    },
    {
      "cell_type": "code",
      "source": [
        "# 특정 차원을 제거 가능한데, 차원의 사이즈가 1이여야 한다는 조건이 있다\n",
        "# 그렇지 않다면 변화는 없다\n",
        "\n",
        "print(x.squeeze(0).size())\n",
        "print(x.squeeze(1).size())"
      ],
      "metadata": {
        "colab": {
          "base_uri": "https://localhost:8080/"
        },
        "id": "Hu9LIFmQGjpZ",
        "outputId": "553a0801-f5d6-4445-cac7-3cef1d5587b5"
      },
      "execution_count": 12,
      "outputs": [
        {
          "output_type": "stream",
          "name": "stdout",
          "text": [
            "torch.Size([2, 2])\n",
            "torch.Size([1, 2, 2])\n"
          ]
        }
      ]
    },
    {
      "cell_type": "markdown",
      "source": [
        "## unsqueeze"
      ],
      "metadata": {
        "id": "Tha5CW12kJU5"
      }
    },
    {
      "cell_type": "markdown",
      "source": [
        "특정 인덱스에 차원 추가"
      ],
      "metadata": {
        "id": "l-Hwtp4BlQlm"
      }
    },
    {
      "cell_type": "code",
      "source": [
        "x = torch.FloatTensor([[1, 2],\n",
        "                        [3, 4]])\n",
        "print(x.size())"
      ],
      "metadata": {
        "colab": {
          "base_uri": "https://localhost:8080/"
        },
        "id": "aZXmYXJgkLbE",
        "outputId": "eda1202c-5949-4f30-bb80-84a7315c9711"
      },
      "execution_count": 14,
      "outputs": [
        {
          "output_type": "stream",
          "name": "stdout",
          "text": [
            "torch.Size([2, 2])\n"
          ]
        }
      ]
    },
    {
      "cell_type": "code",
      "source": [
        "print(x.unsqueeze(2))\n",
        "print(x.unsqueeze(-1))\n",
        "print(x.reshape(2, 2, -1))"
      ],
      "metadata": {
        "colab": {
          "base_uri": "https://localhost:8080/"
        },
        "id": "LcSx8rmukgf-",
        "outputId": "ca86109e-c870-4b33-9d9b-448d38d03764"
      },
      "execution_count": 15,
      "outputs": [
        {
          "output_type": "stream",
          "name": "stdout",
          "text": [
            "tensor([[[1.],\n",
            "         [2.]],\n",
            "\n",
            "        [[3.],\n",
            "         [4.]]])\n",
            "tensor([[[1.],\n",
            "         [2.]],\n",
            "\n",
            "        [[3.],\n",
            "         [4.]]])\n",
            "tensor([[[1.],\n",
            "         [2.]],\n",
            "\n",
            "        [[3.],\n",
            "         [4.]]])\n"
          ]
        }
      ]
    }
  ]
}