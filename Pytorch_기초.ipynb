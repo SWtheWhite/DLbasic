{
  "nbformat": 4,
  "nbformat_minor": 0,
  "metadata": {
    "colab": {
      "name": "Pytorch 기초.ipynb",
      "provenance": [],
      "authorship_tag": "ABX9TyPMESPRw8aHFrK6Ylal17Ym",
      "include_colab_link": true
    },
    "kernelspec": {
      "name": "python3",
      "display_name": "Python 3"
    },
    "language_info": {
      "name": "python"
    }
  },
  "cells": [
    {
      "cell_type": "markdown",
      "metadata": {
        "id": "view-in-github",
        "colab_type": "text"
      },
      "source": [
        "<a href=\"https://colab.research.google.com/github/SWtheWhite/DLbasic/blob/main/Pytorch_%EA%B8%B0%EC%B4%88.ipynb\" target=\"_parent\"><img src=\"https://colab.research.google.com/assets/colab-badge.svg\" alt=\"Open In Colab\"/></a>"
      ]
    },
    {
      "cell_type": "markdown",
      "source": [
        "Pytorch 임포트"
      ],
      "metadata": {
        "id": "HCHgiBKWy9oa"
      }
    },
    {
      "cell_type": "code",
      "source": [
        "import torch"
      ],
      "metadata": {
        "id": "pMeEgcPXzFd4"
      },
      "execution_count": 1,
      "outputs": []
    },
    {
      "cell_type": "markdown",
      "source": [
        "텐서 생성"
      ],
      "metadata": {
        "id": "Wb-UWlsEzJrh"
      }
    },
    {
      "cell_type": "code",
      "source": [
        "lt = torch.LongTensor([[1,2],\n",
        "                       [3,4]]) # 정수형\n",
        "print(lt)"
      ],
      "metadata": {
        "colab": {
          "base_uri": "https://localhost:8080/"
        },
        "id": "t5XpF76nzq47",
        "outputId": "4cc8eddb-f6f5-4e05-a314-4d6dbb14c95e"
      },
      "execution_count": 8,
      "outputs": [
        {
          "output_type": "stream",
          "name": "stdout",
          "text": [
            "tensor([[1, 2],\n",
            "        [3, 4]])\n"
          ]
        }
      ]
    },
    {
      "cell_type": "code",
      "source": [
        "ft = torch.FloatTensor([[1,2],\n",
        "                        [3,4]]) # 실수형\n",
        "print(ft)"
      ],
      "metadata": {
        "colab": {
          "base_uri": "https://localhost:8080/"
        },
        "id": "DbWfOB0BzOJZ",
        "outputId": "1cdcac66-31d5-45e6-f679-6ebbbdf19ecd"
      },
      "execution_count": 9,
      "outputs": [
        {
          "output_type": "stream",
          "name": "stdout",
          "text": [
            "tensor([[1., 2.],\n",
            "        [3., 4.]])\n"
          ]
        }
      ]
    },
    {
      "cell_type": "code",
      "source": [
        "bt = torch.ByteTensor([[1,0],\n",
        "                       [0,1]]) # Byte(2진수)\n",
        "print(bt)"
      ],
      "metadata": {
        "colab": {
          "base_uri": "https://localhost:8080/"
        },
        "id": "ckd4D_140EMb",
        "outputId": "ba5b43c9-6f9a-4f28-b0f0-1d427435d1c9"
      },
      "execution_count": 7,
      "outputs": [
        {
          "output_type": "stream",
          "name": "stdout",
          "text": [
            "tensor([[1, 0],\n",
            "        [0, 1]], dtype=torch.uint8)\n"
          ]
        }
      ]
    },
    {
      "cell_type": "code",
      "source": [
        "# 번외 - 텐서 크기만 지정해서 생성\n",
        "rdm = torch.FloatTensor(3,2)\n",
        "print(rdm)"
      ],
      "metadata": {
        "colab": {
          "base_uri": "https://localhost:8080/"
        },
        "id": "u2YGrdq20Vry",
        "outputId": "2a2bf761-1459-4ccd-a4f8-971b1c30ed45"
      },
      "execution_count": 10,
      "outputs": [
        {
          "output_type": "stream",
          "name": "stdout",
          "text": [
            "tensor([[4.9906e+23, 3.0920e-41],\n",
            "        [3.3631e-44, 0.0000e+00],\n",
            "        [       nan, 1.5554e-43]])\n"
          ]
        }
      ]
    },
    {
      "cell_type": "markdown",
      "source": [
        "Numpy와의 호환"
      ],
      "metadata": {
        "id": "27TBvYcm0Du7"
      }
    },
    {
      "cell_type": "code",
      "source": [
        "import numpy as np\n",
        "\n",
        "# Numpy 배열 생성\n",
        "x = np.array([[1, 2],\n",
        "              [3, 4]])\n",
        "print(x, type(x))"
      ],
      "metadata": {
        "colab": {
          "base_uri": "https://localhost:8080/"
        },
        "id": "BdA6C75B0tp4",
        "outputId": "4574120c-49b5-47e2-bf24-260b3d2ba8a5"
      },
      "execution_count": 11,
      "outputs": [
        {
          "output_type": "stream",
          "name": "stdout",
          "text": [
            "[[1 2]\n",
            " [3 4]] <class 'numpy.ndarray'>\n"
          ]
        }
      ]
    },
    {
      "cell_type": "code",
      "source": [
        "# 텐서로 변환\n",
        "x = torch.from_numpy(x)\n",
        "print(x, type(x))"
      ],
      "metadata": {
        "colab": {
          "base_uri": "https://localhost:8080/"
        },
        "id": "lSgOHT7s05r7",
        "outputId": "19ca990f-06ca-4cb8-ea1c-cd7dbc068767"
      },
      "execution_count": 12,
      "outputs": [
        {
          "output_type": "stream",
          "name": "stdout",
          "text": [
            "tensor([[1, 2],\n",
            "        [3, 4]]) <class 'torch.Tensor'>\n"
          ]
        }
      ]
    },
    {
      "cell_type": "code",
      "source": [
        "# Numpy로 변환\n",
        "x = x.numpy()\n",
        "print(x, type(x))"
      ],
      "metadata": {
        "colab": {
          "base_uri": "https://localhost:8080/"
        },
        "id": "jH0YWwe71EM4",
        "outputId": "d04f1acb-f794-4cfa-ddd9-aff9b437ac04"
      },
      "execution_count": 13,
      "outputs": [
        {
          "output_type": "stream",
          "name": "stdout",
          "text": [
            "[[1 2]\n",
            " [3 4]] <class 'numpy.ndarray'>\n"
          ]
        }
      ]
    },
    {
      "cell_type": "markdown",
      "source": [
        "텐서의 타입 변환"
      ],
      "metadata": {
        "id": "FW8molsD1RDs"
      }
    },
    {
      "cell_type": "code",
      "source": [
        "# 정수로 변환\n",
        "ft.long()"
      ],
      "metadata": {
        "colab": {
          "base_uri": "https://localhost:8080/"
        },
        "id": "OWGsk7p41byy",
        "outputId": "f933328a-b03a-4e01-9433-45dfc819826c"
      },
      "execution_count": 14,
      "outputs": [
        {
          "output_type": "execute_result",
          "data": {
            "text/plain": [
              "tensor([[1, 2],\n",
              "        [3, 4]])"
            ]
          },
          "metadata": {},
          "execution_count": 14
        }
      ]
    },
    {
      "cell_type": "code",
      "source": [
        "# 실수로 변환\n",
        "lt.float()"
      ],
      "metadata": {
        "colab": {
          "base_uri": "https://localhost:8080/"
        },
        "id": "UuJ2QcpN1fEk",
        "outputId": "d958f70f-103e-4122-d7c3-456bc1937c61"
      },
      "execution_count": 15,
      "outputs": [
        {
          "output_type": "execute_result",
          "data": {
            "text/plain": [
              "tensor([[1., 2.],\n",
              "        [3., 4.]])"
            ]
          },
          "metadata": {},
          "execution_count": 15
        }
      ]
    },
    {
      "cell_type": "code",
      "source": [
        "# byte로 변환\n",
        "torch.FloatTensor([1,0]).byte()"
      ],
      "metadata": {
        "colab": {
          "base_uri": "https://localhost:8080/"
        },
        "id": "4rjl4yUK1mp0",
        "outputId": "6c2dfc2e-042e-4caf-b2d0-3aebb25c9660"
      },
      "execution_count": 16,
      "outputs": [
        {
          "output_type": "execute_result",
          "data": {
            "text/plain": [
              "tensor([1, 0], dtype=torch.uint8)"
            ]
          },
          "metadata": {},
          "execution_count": 16
        }
      ]
    }
  ]
}